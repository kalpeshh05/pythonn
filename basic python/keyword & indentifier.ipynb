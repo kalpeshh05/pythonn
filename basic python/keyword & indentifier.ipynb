{
 "cells": [
  {
   "cell_type": "markdown",
   "id": "c8d6d3ab-0eb2-4651-961c-be0618e81d5f",
   "metadata": {},
   "source": [
    "# keywords\n",
    " - python is a case sensitive programming language\n",
    "\n",
    " in programming a keyword is a word that is reversed by a program because the word has a special meaning. keyword can be command or parameters. Every programming language has a set of keywords that cannot be used as variable names   "
   ]
  },
  {
   "cell_type": "code",
   "execution_count": 1,
   "id": "79706b4e-6f3b-41cf-8a08-19872a776265",
   "metadata": {},
   "outputs": [
    {
     "name": "stdout",
     "output_type": "stream",
     "text": [
      "['False', 'None', 'True', 'and', 'as', 'assert', 'async', 'await', 'break', 'class', 'continue', 'def', 'del', 'elif', 'else', 'except', 'finally', 'for', 'from', 'global', 'if', 'import', 'in', 'is', 'lambda', 'nonlocal', 'not', 'or', 'pass', 'raise', 'return', 'try', 'while', 'with', 'yield']\n"
     ]
    }
   ],
   "source": [
    "#PYTHON HAS 33 KEYWORD\n",
    "import keyword\n",
    "print(keyword.kwlist)"
   ]
  },
  {
   "cell_type": "code",
   "execution_count": null,
   "id": "792732a0-ed88-4c4d-982f-a85a391f6f8f",
   "metadata": {},
   "outputs": [],
   "source": []
  }
 ],
 "metadata": {
  "kernelspec": {
   "display_name": "Python 3 (ipykernel)",
   "language": "python",
   "name": "python3"
  },
  "language_info": {
   "codemirror_mode": {
    "name": "ipython",
    "version": 3
   },
   "file_extension": ".py",
   "mimetype": "text/x-python",
   "name": "python",
   "nbconvert_exporter": "python",
   "pygments_lexer": "ipython3",
   "version": "3.12.7"
  }
 },
 "nbformat": 4,
 "nbformat_minor": 5
}
