{
 "cells": [
  {
   "cell_type": "code",
   "execution_count": 28,
   "id": "0d1b5264-edd3-4c64-86e6-8943f64f24db",
   "metadata": {},
   "outputs": [],
   "source": [
    "fruits = [\"banana\", \"apple\", \"mango\", \"orange\"]\n"
   ]
  },
  {
   "cell_type": "code",
   "execution_count": 29,
   "id": "21b290ab-5131-418f-874c-d566c63006e1",
   "metadata": {},
   "outputs": [
    {
     "name": "stdout",
     "output_type": "stream",
     "text": [
      "['banana', 'apple', 'mango', 'orange']\n"
     ]
    }
   ],
   "source": [
    "print(fruits)\n"
   ]
  },
  {
   "cell_type": "code",
   "execution_count": 30,
   "id": "2aa68517-0b11-480b-b5ed-f734dbcfeb0d",
   "metadata": {},
   "outputs": [
    {
     "name": "stdout",
     "output_type": "stream",
     "text": [
      "mango\n"
     ]
    }
   ],
   "source": [
    "print(fruits[2])\n"
   ]
  },
  {
   "cell_type": "raw",
   "id": "38c3ac8f-982b-45c6-8484-c5924b7fac4c",
   "metadata": {},
   "source": [
    "\n"
   ]
  },
  {
   "cell_type": "code",
   "execution_count": 31,
   "id": "d530af6a-d636-4ee1-92b6-6bc6992a355c",
   "metadata": {},
   "outputs": [
    {
     "name": "stdout",
     "output_type": "stream",
     "text": [
      "['potato', 'apple', 'mango', 'orange']\n"
     ]
    }
   ],
   "source": [
    "\n",
    "fruits[0] = \"potato\"\n",
    "print(fruits)\n"
   ]
  },
  {
   "cell_type": "code",
   "execution_count": 32,
   "id": "ffdd5edb-043a-4238-ab68-8ff921596686",
   "metadata": {},
   "outputs": [
    {
     "name": "stdout",
     "output_type": "stream",
     "text": [
      "['potato', 'carrot', 'apple', 'mango', 'orange']\n"
     ]
    }
   ],
   "source": [
    "fruits.insert(1,\"carrot\")\n",
    "print(fruits)"
   ]
  },
  {
   "cell_type": "code",
   "execution_count": 33,
   "id": "e9da4ac4-1d96-425f-8f50-8dafbdd6da97",
   "metadata": {},
   "outputs": [
    {
     "name": "stdout",
     "output_type": "stream",
     "text": [
      "['potato', 'carrot', 'apple', 'mango']\n"
     ]
    }
   ],
   "source": [
    "fruits.pop()\n",
    "print(fruits)"
   ]
  },
  {
   "cell_type": "code",
   "execution_count": 34,
   "id": "c6c5f749",
   "metadata": {},
   "outputs": [
    {
     "name": "stdout",
     "output_type": "stream",
     "text": [
      "['potato', 'apple', 'mango']\n"
     ]
    }
   ],
   "source": [
    "fruits.remove(\"carrot\")\n",
    "print(fruits)"
   ]
  },
  {
   "cell_type": "code",
   "execution_count": 35,
   "id": "6926aaed",
   "metadata": {},
   "outputs": [
    {
     "name": "stdout",
     "output_type": "stream",
     "text": [
      "['potato', 'apple', 'mango', 'banana']\n"
     ]
    }
   ],
   "source": [
    "fruits.append(\"banana\")\n",
    "print(fruits)"
   ]
  },
  {
   "cell_type": "code",
   "execution_count": 36,
   "id": "ca3f8314",
   "metadata": {},
   "outputs": [
    {
     "name": "stdout",
     "output_type": "stream",
     "text": [
      "yes\n"
     ]
    }
   ],
   "source": [
    "\n",
    "if(\"banana\" in fruits):\n",
    "    print(\"yes\")\n",
    "else:\n",
    "    print(\"no\")"
   ]
  },
  {
   "cell_type": "code",
   "execution_count": 37,
   "id": "5059528f",
   "metadata": {},
   "outputs": [
    {
     "name": "stdout",
     "output_type": "stream",
     "text": [
      "[3, 5, 7, 4, 22, 45, 65, 11, 23, 45, 67, 89, 90, 100, 21, 34, 56, 78]\n"
     ]
    }
   ],
   "source": [
    "num = [3,5,7,4,22,45,65,11,23,45,67,89,90,100,21,34,56,78]\n",
    "print(num)"
   ]
  },
  {
   "cell_type": "code",
   "execution_count": 38,
   "id": "27a356af",
   "metadata": {},
   "outputs": [
    {
     "name": "stdout",
     "output_type": "stream",
     "text": [
      "[3, 4, 5, 7, 11, 21, 22, 23, 34, 45, 45, 56, 65, 67, 78, 89, 90, 100]\n"
     ]
    }
   ],
   "source": [
    "num.sort()\n",
    "print(num)\n"
   ]
  },
  {
   "cell_type": "code",
   "execution_count": 39,
   "id": "5c382dc3",
   "metadata": {},
   "outputs": [
    {
     "name": "stdout",
     "output_type": "stream",
     "text": [
      "['apple', 'banana', 'mango', 'potato']\n"
     ]
    }
   ],
   "source": [
    "fruits.sort()\n",
    "print(fruits)"
   ]
  },
  {
   "cell_type": "code",
   "execution_count": null,
   "id": "5827e992",
   "metadata": {},
   "outputs": [],
   "source": []
  },
  {
   "cell_type": "code",
   "execution_count": 40,
   "id": "19ccc3b9",
   "metadata": {},
   "outputs": [
    {
     "name": "stdout",
     "output_type": "stream",
     "text": [
      "('banana', 'apple', 'mango', 'orange')\n"
     ]
    }
   ],
   "source": [
    "fruit = (\"banana\", \"apple\", \"mango\", \"orange\")\n",
    "print(fruit)"
   ]
  },
  {
   "cell_type": "code",
   "execution_count": 41,
   "id": "f9ac18af",
   "metadata": {},
   "outputs": [
    {
     "name": "stdout",
     "output_type": "stream",
     "text": [
      "('potato', 'carrot', 'onion', 'tomato')\n"
     ]
    }
   ],
   "source": [
    "vege = (\"potato\", \"carrot\", \"onion\", \"tomato\")\n",
    "print(vege)"
   ]
  },
  {
   "cell_type": "code",
   "execution_count": 42,
   "id": "ee3a0179",
   "metadata": {},
   "outputs": [],
   "source": [
    "tuple = fruit + vege"
   ]
  },
  {
   "cell_type": "code",
   "execution_count": 43,
   "id": "40d5642e",
   "metadata": {},
   "outputs": [
    {
     "name": "stdout",
     "output_type": "stream",
     "text": [
      "('banana', 'apple', 'mango', 'orange', 'potato', 'carrot', 'onion', 'tomato')\n"
     ]
    }
   ],
   "source": [
    "print(tuple)"
   ]
  },
  {
   "cell_type": "code",
   "execution_count": 44,
   "id": "00509609",
   "metadata": {},
   "outputs": [
    {
     "name": "stdout",
     "output_type": "stream",
     "text": [
      "['apple', 'apple', 'apple', 'apple']\n"
     ]
    }
   ],
   "source": [
    "tuple1 = [\"apple\",\"apple\",'apple','apple']\n",
    "print(tuple1)"
   ]
  },
  {
   "cell_type": "code",
   "execution_count": 45,
   "id": "43bfc753",
   "metadata": {},
   "outputs": [
    {
     "name": "stdout",
     "output_type": "stream",
     "text": [
      "(2, 3, 4, 2, 3, 4, 5, 3, 2)\n"
     ]
    }
   ],
   "source": [
    "tuple2 = (2,3,4,2,3,4,5,3,2)\n",
    "print(tuple2)"
   ]
  },
  {
   "cell_type": "code",
   "execution_count": 46,
   "id": "a7a33923",
   "metadata": {},
   "outputs": [
    {
     "name": "stdout",
     "output_type": "stream",
     "text": [
      "4\n"
     ]
    }
   ],
   "source": [
    "print(tuple1.count(\"apple\"))"
   ]
  },
  {
   "cell_type": "code",
   "execution_count": 47,
   "id": "106111ba",
   "metadata": {},
   "outputs": [
    {
     "name": "stdout",
     "output_type": "stream",
     "text": [
      "3\n"
     ]
    }
   ],
   "source": [
    "print(tuple2.count(2))"
   ]
  },
  {
   "cell_type": "code",
   "execution_count": 48,
   "id": "4458e1d8",
   "metadata": {},
   "outputs": [
    {
     "name": "stdout",
     "output_type": "stream",
     "text": [
      "1\n"
     ]
    }
   ],
   "source": [
    "print(tuple2.count(5))"
   ]
  },
  {
   "cell_type": "code",
   "execution_count": 49,
   "id": "0ca0c0c7",
   "metadata": {},
   "outputs": [
    {
     "name": "stdout",
     "output_type": "stream",
     "text": [
      "aryac\n",
      "acol\n"
     ]
    }
   ],
   "source": [
    "d = \"aryacollege\"\n",
    "print(d[:5])\n",
    "print(d[3:7])\n"
   ]
  },
  {
   "cell_type": "code",
   "execution_count": 50,
   "id": "5aba4bb5",
   "metadata": {},
   "outputs": [
    {
     "name": "stdout",
     "output_type": "stream",
     "text": [
      "ayclee\n"
     ]
    }
   ],
   "source": [
    "print(d[0:13:2])"
   ]
  },
  {
   "cell_type": "code",
   "execution_count": 51,
   "id": "1f960f2c",
   "metadata": {},
   "outputs": [
    {
     "name": "stdout",
     "output_type": "stream",
     "text": [
      "{'name': 'kalpesh', 'age': 20, 'college': 'aryacollege', 'class': 'B.Tech'}\n"
     ]
    }
   ],
   "source": [
    "# Creating a dictionary\n",
    "student = {\n",
    "    \"name\": \"kalpesh\",\n",
    "    \"age\": 20,\n",
    "    \"college\": \"aryacollege\",\n",
    "    \"class\": \"B.Tech\"\n",
    "\n",
    "}\n",
    "\n",
    "print(student)"
   ]
  },
  {
   "cell_type": "code",
   "execution_count": 52,
   "id": "2443a934",
   "metadata": {},
   "outputs": [
    {
     "name": "stdout",
     "output_type": "stream",
     "text": [
      "kalpesh\n"
     ]
    }
   ],
   "source": [
    "print(student[\"name\"])"
   ]
  },
  {
   "cell_type": "code",
   "execution_count": 53,
   "id": "de663e8b",
   "metadata": {},
   "outputs": [
    {
     "name": "stdout",
     "output_type": "stream",
     "text": [
      "20\n"
     ]
    }
   ],
   "source": [
    "print(student.get(\"age\"))\n"
   ]
  },
  {
   "cell_type": "code",
   "execution_count": 54,
   "id": "e06e9130",
   "metadata": {},
   "outputs": [
    {
     "name": "stdout",
     "output_type": "stream",
     "text": [
      "{'name': 'kalpesh', 'age': 21, 'college': 'aryacollege', 'class': 'B.Tech'}\n"
     ]
    }
   ],
   "source": [
    "student[\"age\"] = 21\n",
    "print(student)"
   ]
  },
  {
   "cell_type": "code",
   "execution_count": null,
   "id": "5af575b7",
   "metadata": {},
   "outputs": [],
   "source": []
  },
  {
   "cell_type": "code",
   "execution_count": null,
   "id": "a82ea708",
   "metadata": {},
   "outputs": [],
   "source": []
  },
  {
   "cell_type": "code",
   "execution_count": null,
   "id": "4bc27037",
   "metadata": {},
   "outputs": [],
   "source": []
  },
  {
   "cell_type": "code",
   "execution_count": null,
   "id": "0706bd15",
   "metadata": {},
   "outputs": [],
   "source": []
  },
  {
   "cell_type": "code",
   "execution_count": null,
   "id": "40732974",
   "metadata": {},
   "outputs": [],
   "source": []
  }
 ],
 "metadata": {
  "kernelspec": {
   "display_name": "base",
   "language": "python",
   "name": "python3"
  },
  "language_info": {
   "codemirror_mode": {
    "name": "ipython",
    "version": 3
   },
   "file_extension": ".py",
   "mimetype": "text/x-python",
   "name": "python",
   "nbconvert_exporter": "python",
   "pygments_lexer": "ipython3",
   "version": "3.12.7"
  }
 },
 "nbformat": 4,
 "nbformat_minor": 5
}
