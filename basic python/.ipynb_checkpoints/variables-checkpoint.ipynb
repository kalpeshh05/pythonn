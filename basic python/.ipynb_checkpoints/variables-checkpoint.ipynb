{
 "cells": [
  {
   "cell_type": "markdown",
   "id": "b8ca833b",
   "metadata": {},
   "source": [
    "# variable\n"
   ]
  },
  {
   "cell_type": "code",
   "execution_count": 1,
   "id": "cab39188",
   "metadata": {},
   "outputs": [],
   "source": [
    "# c lang\n",
    "# int a = 5"
   ]
  },
  {
   "cell_type": "code",
   "execution_count": 2,
   "id": "3fa4044a",
   "metadata": {},
   "outputs": [],
   "source": [
    "name = 'nitish'"
   ]
  },
  {
   "cell_type": "code",
   "execution_count": 4,
   "id": "fd0eac2b",
   "metadata": {},
   "outputs": [
    {
     "name": "stdout",
     "output_type": "stream",
     "text": [
      "nitish\n"
     ]
    }
   ],
   "source": [
    "print(name)"
   ]
  },
  {
   "cell_type": "code",
   "execution_count": null,
   "id": "89120609",
   "metadata": {},
   "outputs": [],
   "source": []
  }
 ],
 "metadata": {
  "kernelspec": {
   "display_name": "Python 3",
   "language": "python",
   "name": "python3"
  },
  "language_info": {
   "codemirror_mode": {
    "name": "ipython",
    "version": 3
   },
   "file_extension": ".py",
   "mimetype": "text/x-python",
   "name": "python",
   "nbconvert_exporter": "python",
   "pygments_lexer": "ipython3",
   "version": "3.13.2"
  }
 },
 "nbformat": 4,
 "nbformat_minor": 5
}
