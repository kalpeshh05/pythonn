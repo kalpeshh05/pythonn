{
 "cells": [
  {
   "cell_type": "markdown",
   "id": "b8ca833b",
   "metadata": {},
   "source": [
    "# variable\n"
   ]
  },
  {
   "cell_type": "code",
   "execution_count": 1,
   "id": "cab39188",
   "metadata": {},
   "outputs": [],
   "source": [
    "# c lang\n",
    "# int a = 5"
   ]
  },
  {
   "cell_type": "code",
   "execution_count": 2,
   "id": "3fa4044a",
   "metadata": {},
   "outputs": [],
   "source": [
    "name = 'nitish'"
   ]
  },
  {
   "cell_type": "code",
   "execution_count": 4,
   "id": "fd0eac2b",
   "metadata": {},
   "outputs": [
    {
     "name": "stdout",
     "output_type": "stream",
     "text": [
      "nitish\n"
     ]
    }
   ],
   "source": [
    "print(name)"
   ]
  },
  {
   "cell_type": "code",
   "execution_count": 3,
   "id": "89120609",
   "metadata": {},
   "outputs": [
    {
     "name": "stdout",
     "output_type": "stream",
     "text": [
      "hello world \n"
     ]
    }
   ],
   "source": [
    "name = 'hello world '\n",
    "print(name)"
   ]
  },
  {
   "cell_type": "code",
   "execution_count": 4,
   "id": "09c98ff6-b995-48ef-bcf2-993bfcbf24c1",
   "metadata": {},
   "outputs": [],
   "source": [
    "# no variable declaration"
   ]
  },
  {
   "cell_type": "code",
   "execution_count": 5,
   "id": "9063de27-e41b-496d-b8f6-d90574e7486b",
   "metadata": {},
   "outputs": [],
   "source": [
    "#Dynamic typing --> python,php\n",
    "#static typing = other language"
   ]
  },
  {
   "cell_type": "code",
   "execution_count": 6,
   "id": "54ca733d-446c-43dc-9641-d8c4c56d2652",
   "metadata": {},
   "outputs": [
    {
     "name": "stdout",
     "output_type": "stream",
     "text": [
      "hello world \n"
     ]
    }
   ],
   "source": [
    "print(name)"
   ]
  },
  {
   "cell_type": "code",
   "execution_count": 7,
   "id": "839072e7-97e7-45af-bd3d-690feb7bc01c",
   "metadata": {},
   "outputs": [
    {
     "name": "stdout",
     "output_type": "stream",
     "text": [
      "4\n"
     ]
    }
   ],
   "source": [
    "name = 4\n",
    "print(name)"
   ]
  },
  {
   "cell_type": "code",
   "execution_count": 8,
   "id": "96dc6e94-ee52-4f71-a706-b7bc8c3e9e32",
   "metadata": {},
   "outputs": [
    {
     "name": "stdout",
     "output_type": "stream",
     "text": [
      "True\n"
     ]
    }
   ],
   "source": [
    "name = True\n",
    "print(name)"
   ]
  },
  {
   "cell_type": "code",
   "execution_count": 11,
   "id": "6f2482fd-799b-4a82-8cdd-40789edd078a",
   "metadata": {},
   "outputs": [
    {
     "name": "stdout",
     "output_type": "stream",
     "text": [
      "5\n",
      "6\n",
      "7\n"
     ]
    }
   ],
   "source": [
    "#special syntax\n",
    "a =5 ;b=6;c=7\n",
    "print(a)\n",
    "print(b)\n",
    "print(c)"
   ]
  },
  {
   "cell_type": "code",
   "execution_count": 14,
   "id": "8944c8a0-5fa4-4271-b1e6-7af37a243720",
   "metadata": {},
   "outputs": [
    {
     "name": "stdout",
     "output_type": "stream",
     "text": [
      "4\n",
      "5\n",
      "6\n"
     ]
    }
   ],
   "source": [
    "a,b,c = 4,5,6\n",
    "print(a)\n",
    "print(b)\n",
    "print(c)"
   ]
  },
  {
   "cell_type": "code",
   "execution_count": 15,
   "id": "8b47bfbe-7b79-4365-83f8-96a7ce1e3035",
   "metadata": {},
   "outputs": [
    {
     "name": "stdout",
     "output_type": "stream",
     "text": [
      "6\n",
      "6\n",
      "6\n"
     ]
    }
   ],
   "source": [
    "a=b=c=6\n",
    "print(a)\n",
    "print(b)\n",
    "print(c)"
   ]
  },
  {
   "cell_type": "code",
   "execution_count": null,
   "id": "5f371043-1a1b-4880-ad98-9c1773b79ab3",
   "metadata": {},
   "outputs": [],
   "source": []
  }
 ],
 "metadata": {
  "kernelspec": {
   "display_name": "Python 3 (ipykernel)",
   "language": "python",
   "name": "python3"
  },
  "language_info": {
   "codemirror_mode": {
    "name": "ipython",
    "version": 3
   },
   "file_extension": ".py",
   "mimetype": "text/x-python",
   "name": "python",
   "nbconvert_exporter": "python",
   "pygments_lexer": "ipython3",
   "version": "3.12.7"
  }
 },
 "nbformat": 4,
 "nbformat_minor": 5
}
