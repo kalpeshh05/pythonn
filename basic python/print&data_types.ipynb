{
 "cells": [
  {
   "cell_type": "markdown",
   "id": "f3bbad39",
   "metadata": {},
   "source": [
    "## use of print function "
   ]
  },
  {
   "cell_type": "code",
   "execution_count": 1,
   "id": "3f8f20b5",
   "metadata": {},
   "outputs": [
    {
     "name": "stdout",
     "output_type": "stream",
     "text": [
      "hello world\n"
     ]
    }
   ],
   "source": [
    "print(\"hello world\")"
   ]
  },
  {
   "cell_type": "code",
   "execution_count": 2,
   "id": "9cc0fc67-2ac2-4e73-b93e-7830b08c7eb4",
   "metadata": {},
   "outputs": [
    {
     "name": "stdout",
     "output_type": "stream",
     "text": [
      "6\n"
     ]
    }
   ],
   "source": [
    "print(6)"
   ]
  },
  {
   "cell_type": "code",
   "execution_count": 3,
   "id": "46dc86a8-1c4f-49c8-bda9-f61dba5a7798",
   "metadata": {},
   "outputs": [
    {
     "name": "stdout",
     "output_type": "stream",
     "text": [
      "5.6\n"
     ]
    }
   ],
   "source": [
    "print(5.6)\n"
   ]
  },
  {
   "cell_type": "code",
   "execution_count": 4,
   "id": "67752193-5c93-4420-9235-a629dd5b98f1",
   "metadata": {},
   "outputs": [
    {
     "name": "stdout",
     "output_type": "stream",
     "text": [
      "False\n"
     ]
    }
   ],
   "source": [
    "print(False)"
   ]
  },
  {
   "cell_type": "code",
   "execution_count": 5,
   "id": "917f77be-d752-4f5b-8984-a31e11d22d75",
   "metadata": {},
   "outputs": [
    {
     "name": "stdout",
     "output_type": "stream",
     "text": [
      "India pakisthan nepal shrilanka\n"
     ]
    }
   ],
   "source": [
    "print(\"India\",\"pakisthan\",\"nepal\",\"shrilanka\")"
   ]
  },
  {
   "cell_type": "code",
   "execution_count": 6,
   "id": "fa1c82fb-7cd2-4708-bf80-5e4bfb81c54d",
   "metadata": {},
   "outputs": [
    {
     "name": "stdout",
     "output_type": "stream",
     "text": [
      "INdia 5 True\n"
     ]
    }
   ],
   "source": [
    "print(\"INdia\" , 5 ,True)"
   ]
  },
  {
   "cell_type": "code",
   "execution_count": 7,
   "id": "1b36179e-0865-4236-89cd-d2f12233365d",
   "metadata": {},
   "outputs": [
    {
     "name": "stdout",
     "output_type": "stream",
     "text": [
      "India-pakisthan-nepal-shrilanka\n"
     ]
    }
   ],
   "source": [
    "print(\"India\",\"pakisthan\",\"nepal\",\"shrilanka\",sep='-')"
   ]
  },
  {
   "cell_type": "code",
   "execution_count": 8,
   "id": "46c88169-db70-4b83-b839-5219b9c2ad6c",
   "metadata": {},
   "outputs": [
    {
     "name": "stdout",
     "output_type": "stream",
     "text": [
      "hello\n",
      "world\n"
     ]
    }
   ],
   "source": [
    "print(\"hello\")\n",
    "print(\"world\")\n"
   ]
  },
  {
   "cell_type": "markdown",
   "id": "1e0720fe-3078-4cee-83f8-5d64302fb2ac",
   "metadata": {},
   "source": [
    "print(\"hello\",end=' ')\n",
    "print(\"world\")"
   ]
  },
  {
   "cell_type": "markdown",
   "id": "46f53a4f-3f64-4acf-85cc-d7661fb5ca89",
   "metadata": {},
   "source": [
    "# python supports 3 categories of data types:\n",
    " - basic types -(integer,float,complex,boolean,string)\n",
    "- container -(list,tuples, sets,dictionary)\n",
    "- user-defined Types -class\n",
    " "
   ]
  },
  {
   "cell_type": "code",
   "execution_count": 9,
   "id": "1f86f171-13de-4e8a-a539-726ee250a62e",
   "metadata": {},
   "outputs": [
    {
     "name": "stdout",
     "output_type": "stream",
     "text": [
      "4\n",
      "inf\n"
     ]
    }
   ],
   "source": [
    "# integer\n",
    "print(4)\n",
    "print(1e309) # infinity\n"
   ]
  },
  {
   "cell_type": "code",
   "execution_count": 10,
   "id": "9984c8d7-5f13-4e6f-99b3-6a454946bc00",
   "metadata": {},
   "outputs": [
    {
     "name": "stdout",
     "output_type": "stream",
     "text": [
      "4.5\n",
      "1.7e+308\n"
     ]
    }
   ],
   "source": [
    "# float\n",
    "print(4.5)\n",
    "print(1.7e308)"
   ]
  },
  {
   "cell_type": "code",
   "execution_count": 11,
   "id": "0aabef72",
   "metadata": {},
   "outputs": [
    {
     "name": "stdout",
     "output_type": "stream",
     "text": [
      "True\n",
      "False\n"
     ]
    }
   ],
   "source": [
    "# boolean\n",
    "print(True)\n",
    "print(False)"
   ]
  },
  {
   "cell_type": "code",
   "execution_count": 12,
   "id": "114ea061",
   "metadata": {},
   "outputs": [
    {
     "name": "stdout",
     "output_type": "stream",
     "text": [
      "(4+5j)\n"
     ]
    }
   ],
   "source": [
    "#complex\n",
    "print(4+5j)"
   ]
  },
  {
   "cell_type": "code",
   "execution_count": 13,
   "id": "da171d57",
   "metadata": {},
   "outputs": [
    {
     "name": "stdout",
     "output_type": "stream",
     "text": [
      "kolkata\n",
      "kolkata\n",
      "kolkata\n"
     ]
    }
   ],
   "source": [
    "# string\n",
    "print('kolkata')\n",
    "print(\"kolkata\")\n",
    "print(\"\"\"kolkata\"\"\")"
   ]
  },
  {
   "cell_type": "code",
   "execution_count": 14,
   "id": "bd44d881",
   "metadata": {},
   "outputs": [
    {
     "name": "stdout",
     "output_type": "stream",
     "text": [
      "[1, 2, 3, 4, 5]\n"
     ]
    }
   ],
   "source": [
    "# list \n",
    "print([1,2,3,4,5])"
   ]
  },
  {
   "cell_type": "code",
   "execution_count": 15,
   "id": "e4d95d06",
   "metadata": {},
   "outputs": [
    {
     "name": "stdout",
     "output_type": "stream",
     "text": [
      "(1, 2, 3, 4, 5)\n"
     ]
    }
   ],
   "source": [
    "# tuple\n",
    "print((1,2,3,4,5))"
   ]
  },
  {
   "cell_type": "code",
   "execution_count": 16,
   "id": "b84197f4",
   "metadata": {},
   "outputs": [
    {
     "name": "stdout",
     "output_type": "stream",
     "text": [
      "{1, 2, 3, 4, 5}\n"
     ]
    }
   ],
   "source": [
    "#sets\n",
    "print({1,2,3,4,5})"
   ]
  },
  {
   "cell_type": "code",
   "execution_count": 17,
   "id": "fc5e0090",
   "metadata": {},
   "outputs": [
    {
     "name": "stdout",
     "output_type": "stream",
     "text": [
      "{'name': 'kalpesh', 'age': 22, 'gender': 'male'}\n"
     ]
    }
   ],
   "source": [
    "#dictionary\n",
    "print({\"name\":\"kalpesh\",\"age\":22,\"gender\":\"male\"})"
   ]
  }
 ],
 "metadata": {
  "kernelspec": {
   "display_name": "Python 3",
   "language": "python",
   "name": "python3"
  },
  "language_info": {
   "codemirror_mode": {
    "name": "ipython",
    "version": 3
   },
   "file_extension": ".py",
   "mimetype": "text/x-python",
   "name": "python",
   "nbconvert_exporter": "python",
   "pygments_lexer": "ipython3",
   "version": "3.13.2"
  }
 },
 "nbformat": 4,
 "nbformat_minor": 5
}
