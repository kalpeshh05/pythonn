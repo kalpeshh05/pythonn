{
 "cells": [
  {
   "cell_type": "code",
   "execution_count": 1,
   "id": "70a34320-6342-4883-8223-f3b9da517b45",
   "metadata": {},
   "outputs": [
    {
     "name": "stdout",
     "output_type": "stream",
     "text": [
      "hello world\n"
     ]
    }
   ],
   "source": [
    "print(\"hello world\")\n"
   ]
  },
  {
   "cell_type": "code",
   "execution_count": 6,
   "id": "60978b11",
   "metadata": {},
   "outputs": [
    {
     "name": "stdout",
     "output_type": "stream",
     "text": [
      "<class 'int'>\n"
     ]
    }
   ],
   "source": [
    "#variables\n",
    "x = 5 \n",
    "print(type(x))"
   ]
  },
  {
   "cell_type": "code",
   "execution_count": 46,
   "id": "272fcccc",
   "metadata": {},
   "outputs": [
    {
     "name": "stdout",
     "output_type": "stream",
     "text": [
      "h\n",
      "y\n",
      "tho\n",
      "s\n",
      "PYTHON IS EASY AND FUN\n",
      "python is easy and fun\n",
      "PYTHON IS EASY AND FUN\n",
      "python is easy and fun\n",
      "['python', 'is', 'easy', 'and', 'fun']\n",
      "java is easy and fun\n",
      "7\n",
      "python is easypython is easy and fun\n"
     ]
    }
   ],
   "source": [
    "#string \n",
    "str = \"python is easy\"\n",
    "#indexing\n",
    "print(str[3])\n",
    "print(str[-1])\n",
    "\n",
    "#slicing\n",
    "print(str[2:5])\n",
    "print(str[-2:-1])\n",
    "\n",
    "str1 = \"python is easy and fun\" \n",
    "\n",
    "#string method \n",
    "print(str1.upper())\n",
    "\n",
    "print(str1.lower())\n",
    "\n",
    "print(str1.swapcase())\n",
    "\n",
    "print(str1.strip())\n",
    "\n",
    "print(str1.split())\n",
    "\n",
    "print(str1.replace(\"python\", \"java\"))\n",
    "\n",
    "print(str1.find(\"is\"))\n",
    "\n",
    "print(str + str1)\n",
    "\n",
    "\n"
   ]
  },
  {
   "cell_type": "code",
   "execution_count": null,
   "id": "cf5ea85a",
   "metadata": {},
   "outputs": [
    {
     "name": "stdout",
     "output_type": "stream",
     "text": [
      "(1, 2, 3, 'python', True)\n",
      "3\n",
      "True\n",
      "(3, 'python')\n",
      "('python',)\n"
     ]
    }
   ],
   "source": [
    "#tuple \n",
    "\n",
    "tuple = (1,2,3,\"python\",True)\n",
    "\n",
    "print(tuple)\n",
    "\n",
    "#indexing\n",
    "\n",
    "print(tuple[2])\n",
    "\n",
    "print(tuple[-1])\n",
    "\n",
    "#slicing\n",
    "\n",
    "print(tuple[2:4])\n",
    "\n",
    "print(tuple[-2:-1])\n",
    "\n",
    "\n"
   ]
  },
  {
   "cell_type": "code",
   "execution_count": null,
   "id": "c04d0e9d",
   "metadata": {},
   "outputs": [
    {
     "name": "stdout",
     "output_type": "stream",
     "text": [
      "[1, 2, 3, 4, 5, 6]\n",
      "3\n",
      "6\n",
      "[3, 4]\n",
      "[4, 5]\n",
      "[1, 2, 'python', 4, 5, 6]\n",
      "[1, 2, 3, 4, 5, 6, 7]\n",
      "[1, 2, 3, 3, 4, 5, 6, 7]\n",
      "[1, 2, 3, 4, 5, 6, 7]\n",
      "[7, 6, 5, 4, 3, 2, 1]\n",
      "[1, 2, 3, 4, 5, 6, 7]\n"
     ]
    }
   ],
   "source": [
    "#list\n",
    "\n",
    "lst = [ 1,2,3,4,5,6]\n",
    "\n",
    "print(lst)\n",
    "\n",
    "#indexing\n",
    "\n",
    "print(lst[2])\n",
    "\n",
    "print(lst[-1])\n",
    "\n",
    "#slicing\n",
    "\n",
    "print(lst[2:4])\n",
    "\n",
    "print(lst[-3:-1])\n",
    "\n",
    "\n",
    "\n",
    "#modifying the list\n",
    "\n",
    "lst[2] = \"python\"\n",
    "\n",
    "print(lst)\n",
    "\n",
    "\n"
   ]
  },
  {
   "cell_type": "code",
   "execution_count": 47,
   "id": "150aba9d",
   "metadata": {},
   "outputs": [
    {
     "name": "stdout",
     "output_type": "stream",
     "text": [
      "[1, 2, 3, 4, 5, 6, 7]\n",
      "[1, 2, 3, 3, 4, 5, 6, 7]\n",
      "[1, 2, 3, 4, 5, 6, 7]\n",
      "[7, 6, 5, 4, 3, 2, 1]\n",
      "[1, 2, 3, 4, 5, 6, 7]\n"
     ]
    }
   ],
   "source": [
    "# list methods \n",
    "\n",
    "lst1 = [1,2,3,4,5,6]\n",
    "\n",
    "lst1.append(7)\n",
    "\n",
    "print(lst1)\n",
    "\n",
    "lst1.insert(2, 3)\n",
    "\n",
    "print(lst1)\n",
    "\n",
    "lst1.remove(3)\n",
    "\n",
    "print(lst1) \n",
    "\n",
    "lst1.reverse()\n",
    "\n",
    "print(lst1)\n",
    "\n",
    "lst1.sort()\n",
    "\n",
    "print(lst1)\n"
   ]
  },
  {
   "cell_type": "code",
   "execution_count": null,
   "id": "5cc2e1a8",
   "metadata": {},
   "outputs": [],
   "source": []
  },
  {
   "cell_type": "code",
   "execution_count": null,
   "id": "c2bb86f3",
   "metadata": {},
   "outputs": [],
   "source": []
  },
  {
   "cell_type": "code",
   "execution_count": null,
   "id": "63715f25",
   "metadata": {},
   "outputs": [],
   "source": []
  },
  {
   "cell_type": "code",
   "execution_count": null,
   "id": "bfd6055f",
   "metadata": {},
   "outputs": [],
   "source": []
  }
 ],
 "metadata": {
  "kernelspec": {
   "display_name": "base",
   "language": "python",
   "name": "python3"
  },
  "language_info": {
   "codemirror_mode": {
    "name": "ipython",
    "version": 3
   },
   "file_extension": ".py",
   "mimetype": "text/x-python",
   "name": "python",
   "nbconvert_exporter": "python",
   "pygments_lexer": "ipython3",
   "version": "3.12.7"
  }
 },
 "nbformat": 4,
 "nbformat_minor": 5
}
