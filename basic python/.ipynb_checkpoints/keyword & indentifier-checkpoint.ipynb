{
 "cells": [
  {
   "cell_type": "code",
   "execution_count": 14,
   "id": "bccc7f65-06fe-4fab-9d27-4ec150bfdb8e",
   "metadata": {},
   "outputs": [
    {
     "name": "stdout",
     "output_type": "stream",
     "text": [
      "hello world\n"
     ]
    }
   ],
   "source": [
    "print(\"hello world\")"
   ]
  },
  {
   "cell_type": "code",
   "execution_count": 15,
   "id": "9cc0fc67-2ac2-4e73-b93e-7830b08c7eb4",
   "metadata": {},
   "outputs": [
    {
     "name": "stdout",
     "output_type": "stream",
     "text": [
      "6\n"
     ]
    }
   ],
   "source": [
    "print(6)"
   ]
  },
  {
   "cell_type": "code",
   "execution_count": 16,
   "id": "46dc86a8-1c4f-49c8-bda9-f61dba5a7798",
   "metadata": {},
   "outputs": [
    {
     "name": "stdout",
     "output_type": "stream",
     "text": [
      "5.6\n"
     ]
    }
   ],
   "source": [
    "print(5.6)\n"
   ]
  },
  {
   "cell_type": "code",
   "execution_count": 17,
   "id": "67752193-5c93-4420-9235-a629dd5b98f1",
   "metadata": {},
   "outputs": [
    {
     "name": "stdout",
     "output_type": "stream",
     "text": [
      "False\n"
     ]
    }
   ],
   "source": [
    "print(False)"
   ]
  },
  {
   "cell_type": "code",
   "execution_count": 18,
   "id": "917f77be-d752-4f5b-8984-a31e11d22d75",
   "metadata": {},
   "outputs": [
    {
     "name": "stdout",
     "output_type": "stream",
     "text": [
      "India pakisthan nepal shrilanka\n"
     ]
    }
   ],
   "source": [
    "print(\"India\",\"pakisthan\",\"nepal\",\"shrilanka\")"
   ]
  },
  {
   "cell_type": "code",
   "execution_count": 19,
   "id": "fa1c82fb-7cd2-4708-bf80-5e4bfb81c54d",
   "metadata": {},
   "outputs": [
    {
     "name": "stdout",
     "output_type": "stream",
     "text": [
      "INdia 5 True\n"
     ]
    }
   ],
   "source": [
    "print(\"INdia\" , 5 ,True)"
   ]
  },
  {
   "cell_type": "code",
   "execution_count": 20,
   "id": "1b36179e-0865-4236-89cd-d2f12233365d",
   "metadata": {},
   "outputs": [
    {
     "name": "stdout",
     "output_type": "stream",
     "text": [
      "India-pakisthan-nepal-shrilanka\n"
     ]
    }
   ],
   "source": [
    "print(\"India\",\"pakisthan\",\"nepal\",\"shrilanka\",sep='-')"
   ]
  },
  {
   "cell_type": "code",
   "execution_count": 21,
   "id": "46c88169-db70-4b83-b839-5219b9c2ad6c",
   "metadata": {},
   "outputs": [
    {
     "name": "stdout",
     "output_type": "stream",
     "text": [
      "hello\n",
      "world\n"
     ]
    }
   ],
   "source": [
    "print(\"hello\")\n",
    "print(\"world\")\n"
   ]
  },
  {
   "cell_type": "markdown",
   "id": "1e0720fe-3078-4cee-83f8-5d64302fb2ac",
   "metadata": {},
   "source": [
    "print(\"hello\",end=' ')\n",
    "print(\"world\")"
   ]
  },
  {
   "cell_type": "markdown",
   "id": "46f53a4f-3f64-4acf-85cc-d7661fb5ca89",
   "metadata": {},
   "source": [
    "# python supports 3 categories of data types:\n",
    " "
   ]
  },
  {
   "cell_type": "code",
   "execution_count": 23,
   "id": "1f86f171-13de-4e8a-a539-726ee250a62e",
   "metadata": {},
   "outputs": [],
   "source": [
    "\n",
    " "
   ]
  },
  {
   "cell_type": "code",
   "execution_count": null,
   "id": "9984c8d7-5f13-4e6f-99b3-6a454946bc00",
   "metadata": {},
   "outputs": [],
   "source": []
  }
 ],
 "metadata": {
  "kernelspec": {
   "display_name": "Python 3 (ipykernel)",
   "language": "python",
   "name": "python3"
  },
  "language_info": {
   "codemirror_mode": {
    "name": "ipython",
    "version": 3
   },
   "file_extension": ".py",
   "mimetype": "text/x-python",
   "name": "python",
   "nbconvert_exporter": "python",
   "pygments_lexer": "ipython3",
   "version": "3.12.7"
  }
 },
 "nbformat": 4,
 "nbformat_minor": 5
}
